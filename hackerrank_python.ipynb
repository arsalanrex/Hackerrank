{
  "nbformat": 4,
  "nbformat_minor": 0,
  "metadata": {
    "colab": {
      "name": "hackerrank_python.ipynb",
      "provenance": [],
      "collapsed_sections": [],
      "authorship_tag": "ABX9TyMIv9lyH8/1JTTZ3FAcJqte",
      "include_colab_link": true
    },
    "kernelspec": {
      "name": "python3",
      "display_name": "Python 3"
    },
    "language_info": {
      "name": "python"
    }
  },
  "cells": [
    {
      "cell_type": "markdown",
      "metadata": {
        "id": "view-in-github",
        "colab_type": "text"
      },
      "source": [
        "<a href=\"https://colab.research.google.com/github/arsalanrex/Hackerrank/blob/Python/hackerrank_python.ipynb\" target=\"_parent\"><img src=\"https://colab.research.google.com/assets/colab-badge.svg\" alt=\"Open In Colab\"/></a>"
      ]
    },
    {
      "cell_type": "markdown",
      "source": [
        "# Introduction\n",
        "\n",
        "---\n",
        "\n"
      ],
      "metadata": {
        "id": "o577DUjYb5Z7"
      }
    },
    {
      "cell_type": "markdown",
      "source": [
        "# Basic Data Types\n",
        "\n",
        "---\n",
        "\n"
      ],
      "metadata": {
        "id": "gFae5baccQk0"
      }
    },
    {
      "cell_type": "markdown",
      "source": [
        "# Strings\n",
        "\n",
        "---\n",
        "\n"
      ],
      "metadata": {
        "id": "XsavFj6ecQrE"
      }
    },
    {
      "cell_type": "markdown",
      "source": [
        "# Sets\n",
        "\n",
        "---\n",
        "\n"
      ],
      "metadata": {
        "id": "a1xZK3bzcQw6"
      }
    },
    {
      "cell_type": "markdown",
      "source": [
        "# Math\n",
        "\n",
        "---\n",
        "\n"
      ],
      "metadata": {
        "id": "I_Czm-oncsZb"
      }
    },
    {
      "cell_type": "markdown",
      "source": [
        "# Itertools\n",
        "\n",
        "---\n",
        "\n"
      ],
      "metadata": {
        "id": "aSC3gHQNcslR"
      }
    },
    {
      "cell_type": "markdown",
      "source": [
        "# Collections\n",
        "\n",
        "---\n",
        "\n"
      ],
      "metadata": {
        "id": "3uhZb2bVcsvb"
      }
    },
    {
      "cell_type": "markdown",
      "source": [
        "# Date and Time\n",
        "\n",
        "---\n",
        "\n"
      ],
      "metadata": {
        "id": "XkXtbhgEcs42"
      }
    },
    {
      "cell_type": "markdown",
      "source": [
        "# Errors and Exceptions\n",
        "\n",
        "---\n",
        "\n"
      ],
      "metadata": {
        "id": "hjadK99Ycs-D"
      }
    },
    {
      "cell_type": "markdown",
      "source": [
        "# Classes\n",
        "\n",
        "---\n",
        "\n"
      ],
      "metadata": {
        "id": "zlzK3SkGctBB"
      }
    },
    {
      "cell_type": "markdown",
      "source": [
        "# Built-Ins\n",
        "\n",
        "---\n",
        "\n"
      ],
      "metadata": {
        "id": "r6cZOw-nctDr"
      }
    },
    {
      "cell_type": "markdown",
      "source": [
        "# Python Functionals\n",
        "\n",
        "---\n",
        "\n"
      ],
      "metadata": {
        "id": "q8RGNx3ZdXkT"
      }
    },
    {
      "cell_type": "markdown",
      "source": [
        "# Regex and Parsing\n",
        "\n",
        "---\n",
        "\n"
      ],
      "metadata": {
        "id": "0cfYFwEF8zrW"
      }
    },
    {
      "cell_type": "code",
      "source": [
        "import re\n",
        "print(bool(re.match(r'^[a-z]?[\\w._-]+@[a-z]+\\.[a-z]{1,3}$', input())))\n"
      ],
      "metadata": {
        "colab": {
          "base_uri": "https://localhost:8080/"
        },
        "id": "0wh377I1FYHU",
        "outputId": "562224a4-308b-44ef-f57b-80e96fb618c3"
      },
      "execution_count": null,
      "outputs": [
        {
          "output_type": "stream",
          "name": "stdout",
          "text": [
            "sdsHYYH@sd.co\n",
            "True\n"
          ]
        }
      ]
    },
    {
      "cell_type": "markdown",
      "source": [
        "## Detect Floating Point Number"
      ],
      "metadata": {
        "id": "adeJ4RiT800J"
      }
    },
    {
      "cell_type": "code",
      "source": [
        ""
      ],
      "metadata": {
        "id": "lHzVm6OXwLZZ"
      },
      "execution_count": null,
      "outputs": []
    },
    {
      "cell_type": "markdown",
      "source": [
        "## Re.split()"
      ],
      "metadata": {
        "id": "gNCaRckA808E"
      }
    },
    {
      "cell_type": "code",
      "source": [
        ""
      ],
      "metadata": {
        "id": "RG_6d4crwtiS"
      },
      "execution_count": null,
      "outputs": []
    },
    {
      "cell_type": "markdown",
      "source": [
        "## Group(), Groups() & Groupdict()"
      ],
      "metadata": {
        "id": "cHHkkgcW80_q"
      }
    },
    {
      "cell_type": "code",
      "source": [
        ""
      ],
      "metadata": {
        "id": "_d3WaOg4wuOc"
      },
      "execution_count": null,
      "outputs": []
    },
    {
      "cell_type": "markdown",
      "source": [
        "## Re.findall() & Re.finditer()"
      ],
      "metadata": {
        "id": "ezfcPcTb81kr"
      }
    },
    {
      "cell_type": "code",
      "source": [
        ""
      ],
      "metadata": {
        "id": "9T0WX-Kbwu9f"
      },
      "execution_count": null,
      "outputs": []
    },
    {
      "cell_type": "markdown",
      "source": [
        "## Re.start() & Re.end()"
      ],
      "metadata": {
        "id": "KzTheRLr804g"
      }
    },
    {
      "cell_type": "code",
      "source": [
        ""
      ],
      "metadata": {
        "id": "itOCFN_0wvxt"
      },
      "execution_count": null,
      "outputs": []
    },
    {
      "cell_type": "markdown",
      "source": [
        "## Regex Substitution"
      ],
      "metadata": {
        "id": "adapEPeI81oy"
      }
    },
    {
      "cell_type": "code",
      "source": [
        ""
      ],
      "metadata": {
        "id": "_9WMovZXxhab"
      },
      "execution_count": null,
      "outputs": []
    },
    {
      "cell_type": "markdown",
      "source": [
        "## Validating Roman Numerals"
      ],
      "metadata": {
        "id": "t41NWG5s81sD"
      }
    },
    {
      "cell_type": "code",
      "source": [
        ""
      ],
      "metadata": {
        "id": "MjLWXydnxiC4"
      },
      "execution_count": null,
      "outputs": []
    },
    {
      "cell_type": "markdown",
      "source": [
        "## Validating phone numbers"
      ],
      "metadata": {
        "id": "3QxvaY6u81vK"
      }
    },
    {
      "cell_type": "code",
      "source": [
        ""
      ],
      "metadata": {
        "id": "yUHq6KMFxism"
      },
      "execution_count": null,
      "outputs": []
    },
    {
      "cell_type": "markdown",
      "source": [
        "## Validating and Parsing Email Addresses"
      ],
      "metadata": {
        "id": "TmlaTQQK81ym"
      }
    },
    {
      "cell_type": "code",
      "source": [
        "import email.utils\n",
        "import re\n",
        "def checkmail(mail):\n",
        "    return(bool(re.match(r'^[a-z](\\w|-|\\.|_)+@[a-z]+\\.[a-z]{1,3}$', mail, re.I)))\n",
        "\n",
        "for _ in range(int(input())):\n",
        "    m = email.utils.parseaddr(input())\n",
        "    if checkmail(m[1]): print(email.utils.formataddr(m))"
      ],
      "metadata": {
        "colab": {
          "base_uri": "https://localhost:8080/"
        },
        "id": "TJaYKdPjxkZK",
        "outputId": "2e8d5299-c918-45bb-d6fe-1cd470df66e1"
      },
      "execution_count": null,
      "outputs": [
        {
          "name": "stdout",
          "output_type": "stream",
          "text": [
            "2\n",
            "DEXTER <dexter@hotmail.com>\n",
            "DEXTER <dexter@hotmail.com>\n",
            "VIRUS <virus!@variable.:p>\n"
          ]
        }
      ]
    },
    {
      "cell_type": "markdown",
      "source": [
        "## Hex Color Code"
      ],
      "metadata": {
        "id": "fSC3CSCf82B6"
      }
    },
    {
      "cell_type": "code",
      "source": [
        "import re\n",
        "s = \"\"\n",
        "for _ in range(int(input())):\n",
        "    s = s+input()\n",
        "hex = re.findall(r'#[abcdef0-9]+(?![\\s]*[{])', s, re.I)\n",
        "for x in hex:\n",
        "    if len(x) not in [4,7]: hex.remove(x)\n",
        "print(*hex, sep=\"\\n\")"
      ],
      "metadata": {
        "colab": {
          "base_uri": "https://localhost:8080/"
        },
        "id": "PAIM884mxjwA",
        "outputId": "f1ee6421-efce-4983-f584-92cd849d4d62"
      },
      "execution_count": null,
      "outputs": [
        {
          "output_type": "stream",
          "name": "stdout",
          "text": [
            "11\n",
            "#BED\n",
            "{\n",
            "    color: #FfFdF8; background-color:#aef;\n",
            "    font-size: 123px;\n",
            "    background: -webkit-linear-gradient(top, #f9f9f9, #fff);\n",
            "}\n",
            "#Cab\n",
            "{\n",
            "    background-color: #ABC;\n",
            "    border: 2px dashed #fff;\n",
            "}\n",
            "#FfFdF8\n",
            "#aef\n",
            "#f9f9f9\n",
            "#fff\n",
            "#ABC\n",
            "#fff\n"
          ]
        }
      ]
    },
    {
      "cell_type": "markdown",
      "source": [
        "## HTML Parser - Part 1"
      ],
      "metadata": {
        "id": "05BmzwUD82FH"
      }
    },
    {
      "cell_type": "code",
      "source": [
        "from html.parser import HTMLParser\n",
        "\n",
        "class HParser(HTMLParser):\n",
        "    def handle_starttag(self, tag, attrs):\n",
        "        print(\"Start : \"+tag)\n",
        "        for attr in attrs:\n",
        "            print(\"-> \", end = \"\")\n",
        "            print(*attr, sep=\" > \")\n",
        "    def handle_endtag(self, tag):\n",
        "        print(\"End   : \"+tag)\n",
        "    def handle_startendtag(self, tag, attrs):\n",
        "        print(\"Empty : \"+tag)\n",
        "        for attr in attrs:\n",
        "            print(\"-> \", end = \"\")\n",
        "            print(*attr, sep=\" > \")\n",
        "\n",
        "s = \"\"\n",
        "for _ in range(int(input())):\n",
        "    s += input()\n",
        "parser = HParser()\n",
        "parser.feed(s)"
      ],
      "metadata": {
        "colab": {
          "base_uri": "https://localhost:8080/"
        },
        "id": "BnQe-bTGxgDx",
        "outputId": "5ca286b0-0137-4d1d-e401-2646fb29986d"
      },
      "execution_count": null,
      "outputs": [
        {
          "output_type": "stream",
          "name": "stdout",
          "text": [
            "2\n",
            "<html><head><title>HTML Parser - I</title></head>\n",
            "<body data-modal-target class='1'><h1>HackerRank</h1><br /></body></html>\n",
            "Start : html\n",
            "Start : head\n",
            "Start : title\n",
            "End   : title\n",
            "End   : head\n",
            "Start : body\n",
            "-> data-modal-target > None\n",
            "-> class > 1\n",
            "Start : h1\n",
            "End   : h1\n",
            "Empty : br\n",
            "End   : body\n",
            "End   : html\n"
          ]
        }
      ]
    },
    {
      "cell_type": "markdown",
      "source": [
        "## HTML Parser - Part 2"
      ],
      "metadata": {
        "id": "gYmXJaCLxGnk"
      }
    },
    {
      "cell_type": "code",
      "source": [
        "from html.parser import HTMLParser\n",
        "class CustomHTMLParser(HTMLParser):\n",
        "    def handle_comment(self, data):\n",
        "        number_of_line = len(data.split('\\n'))\n",
        "        if number_of_line>1:\n",
        "            print('>>> Multi-line Comment')\n",
        "        else:\n",
        "            print('>>> Single-line Comment')\n",
        "        if data.strip():\n",
        "            print(data)\n",
        "\n",
        "    def handle_data(self, data):\n",
        "        if data.strip():\n",
        "            print(\">>> Data\")\n",
        "            print(data)\n",
        "\n",
        "parser = CustomHTMLParser()\n",
        "\n",
        "n = int(input())\n",
        "\n",
        "html_string = ''\n",
        "for i in range(n):\n",
        "    html_string += input().rstrip()+'\\n'\n",
        "    \n",
        "parser.feed(html_string)\n",
        "parser.close()"
      ],
      "metadata": {
        "colab": {
          "base_uri": "https://localhost:8080/"
        },
        "id": "kAN0olVzxfb-",
        "outputId": "ad145698-64e1-45b3-b91d-c742bb6fce8e"
      },
      "execution_count": null,
      "outputs": [
        {
          "output_type": "stream",
          "name": "stdout",
          "text": [
            "4\n",
            "<!--[if IE 9]>IE9-specific content\n",
            "<![endif]-->\n",
            "<div> Welcome to HackerRank</div>\n",
            "<!--[if IE 9]>IE9-specific content<![endif]-->\n",
            ">>> Multi-line Comment\n",
            "[if IE 9]>IE9-specific content\n",
            "<![endif]\n",
            ">>> Data\n",
            " Welcome to HackerRank\n",
            ">>> Single-line Comment\n",
            "[if IE 9]>IE9-specific content<![endif]\n"
          ]
        }
      ]
    },
    {
      "cell_type": "markdown",
      "source": [
        "## Detect HTML Tags, Attributes and Attribute Values"
      ],
      "metadata": {
        "id": "_YRtoE5yxG2b"
      }
    },
    {
      "cell_type": "code",
      "source": [
        "from html.parser import HTMLParser\n",
        "\n",
        "class HParser(HTMLParser):\n",
        "    def handle_starttag(self, tag, attrs):\n",
        "        print(tag)\n",
        "        for attr in attrs:\n",
        "            print(\"-> \", end = \"\")\n",
        "            print(*attr, sep = \" > \")\n",
        "\n",
        "\n",
        "s=\"\"\n",
        "for _ in range(int(input())):\n",
        "    s+= input()\n",
        "par = HParser()\n",
        "par.feed(s)"
      ],
      "metadata": {
        "colab": {
          "base_uri": "https://localhost:8080/"
        },
        "id": "er41Qqopxe3p",
        "outputId": "fb27cfe2-94c6-4d7f-8dae-baa6eea94dac"
      },
      "execution_count": null,
      "outputs": [
        {
          "output_type": "stream",
          "name": "stdout",
          "text": [
            "9\n",
            "<head>\n",
            "<title>HTML</title>\n",
            "</head> \n",
            "<object type=\"application/x-flash\" \n",
            "  data=\"your-file.swf\"    \n",
            "  width=\"0\" height=\"0\">\n",
            "  <!-- <param name=\"movie\" value=\"your-file.swf\" /> -->\n",
            "  <param name=\"quality\" value=\"high\"/>\n",
            "</object>\n",
            "head\n",
            "title\n",
            "object\n",
            "-> type > application/x-flash\n",
            "-> data > your-file.swf\n",
            "-> width > 0\n",
            "-> height > 0\n",
            "param\n",
            "-> name > quality\n",
            "-> value > high\n"
          ]
        }
      ]
    },
    {
      "cell_type": "markdown",
      "source": [
        "## Validating UID"
      ],
      "metadata": {
        "id": "BanystCIxG5R"
      }
    },
    {
      "cell_type": "code",
      "source": [
        "uc, d, w = 0, 0, 0\n",
        "for _ in range(int(input())):\n",
        "    s = list(input())\n",
        "    if len(set(s)) == 10:\n",
        "        uc = sum(1 for x in s if x.isupper())\n",
        "        d = sum(1 for x in s if x.isdigit())\n",
        "        w = sum(1 for x in s if not x.isalnum())\n",
        "        print(\"Valid\") if uc >=2 and d >=3 and w == 0 else print(\"Invalid\")\n",
        "    else: print(\"Invalid\")"
      ],
      "metadata": {
        "id": "fZHW4qHKxeU7",
        "colab": {
          "base_uri": "https://localhost:8080/"
        },
        "outputId": "da774232-4f79-4929-ec67-41172a02ff40"
      },
      "execution_count": 7,
      "outputs": [
        {
          "output_type": "stream",
          "name": "stdout",
          "text": [
            "2\n",
            "B1CD102354\n",
            "Invalid\n",
            "B1CDEF2354\n",
            "Valid\n"
          ]
        }
      ]
    },
    {
      "cell_type": "markdown",
      "source": [
        "## Validating Credit Card Numbers"
      ],
      "metadata": {
        "id": "KGqsYsb0xG7l"
      }
    },
    {
      "cell_type": "code",
      "source": [
        "import re\n",
        "import itertools \n",
        "p1 = re.compile(r'^[456](\\d{15}|\\d{3}(\\-\\d{4}){3})$')\n",
        "for _ in range(int(input())):\n",
        "    cno = input()\n",
        "    if p1.match(cno):\n",
        "        cno = list(cno.replace(\"-\", \"\"))\n",
        "        maxcount = [len(list(x[1])) for x in itertools.groupby(cno)]\n",
        "        print(\"Valid\") if max(maxcount) < 4 else print(\"Invalid\")\n",
        "    else: print(\"Invalid\")"
      ],
      "metadata": {
        "id": "CwQc_BOnxdfk",
        "colab": {
          "base_uri": "https://localhost:8080/"
        },
        "outputId": "80df9aa7-a39e-4d30-9ea9-df803c18b92b"
      },
      "execution_count": 2,
      "outputs": [
        {
          "output_type": "stream",
          "name": "stdout",
          "text": [
            "6\n",
            "4123456789123456\n",
            "Valid\n",
            "5123-4567-8912-3456\n",
            "Valid\n",
            "61234-567-8912-3456\n",
            "Invalid\n",
            "4123356789123456\n",
            "Valid\n",
            "5133-3367-8912-3456\n",
            "Invalid\n",
            "5123 - 3567 - 8912 - 3456\n",
            "Invalid\n"
          ]
        }
      ]
    },
    {
      "cell_type": "markdown",
      "source": [
        "## Validating Postal Codes"
      ],
      "metadata": {
        "id": "zwIxOXLAxHAS"
      }
    },
    {
      "cell_type": "code",
      "source": [
        "regex_integer_in_range = r\"^[1-9]\\d{5}$\"\t# Do not delete 'r'.\n",
        "regex_alternating_repetitive_digit_pair = r\"(\\d)(?=.\\1)\"\t# Do not delete 'r'.\n",
        "\n",
        "\n",
        "import re\n",
        "P = input()\n",
        "\n",
        "print (bool(re.match(regex_integer_in_range, P)) \n",
        "and len(re.findall(regex_alternating_repetitive_digit_pair, P)) < 2)"
      ],
      "metadata": {
        "id": "r9z9PC5kxcq2",
        "colab": {
          "base_uri": "https://localhost:8080/"
        },
        "outputId": "dcd92e2d-7686-44c4-c9fa-5f7091a5af36"
      },
      "execution_count": 3,
      "outputs": [
        {
          "output_type": "stream",
          "name": "stdout",
          "text": [
            "110000\n",
            "False\n"
          ]
        }
      ]
    },
    {
      "cell_type": "markdown",
      "source": [
        "## Matrix Script"
      ],
      "metadata": {
        "id": "atEoshSjxHGB"
      }
    },
    {
      "cell_type": "code",
      "source": [
        "import re\n",
        "n, m = map(int, input().split())\n",
        "s, ans = [], \"\"\n",
        "for _ in range(n): s.append(list(input()))\n",
        "for i in range(m):\n",
        "  for j in range(n): ans += s[j][i]\n",
        "print (re.sub('(?<=\\w)([^\\w]+)(?=\\w)', \" \", ans))"
      ],
      "metadata": {
        "colab": {
          "base_uri": "https://localhost:8080/"
        },
        "id": "rdbOwc0dyh9q",
        "outputId": "a9b30ac7-76c6-4aff-c87a-2b2733938a5e"
      },
      "execution_count": 45,
      "outputs": [
        {
          "output_type": "stream",
          "name": "stdout",
          "text": [
            "7 3\n",
            "Tsi\n",
            "h%x\n",
            "i #\n",
            "sM \n",
            "$a \n",
            "#t%\n",
            "ir!\n",
            "This is Matrix#  %!\n"
          ]
        }
      ]
    },
    {
      "cell_type": "markdown",
      "source": [
        "## Regex Substitution"
      ],
      "metadata": {
        "id": "DB3ppkoREYPV"
      }
    },
    {
      "cell_type": "code",
      "source": [
        "import re\n",
        "s = \"\"\n",
        "for _ in range(int(input())): s+= input()+\"\\n\"\n",
        "print(re.sub(r'(?<= )(&&|\\|\\|)(?= )', lambda x: 'and' if x.group() == '&&' else 'or', s))"
      ],
      "metadata": {
        "colab": {
          "base_uri": "https://localhost:8080/"
        },
        "id": "CwDXyAPREcsz",
        "outputId": "d22734ff-91e5-48ef-84fc-a78a64e9d841"
      },
      "execution_count": 47,
      "outputs": [
        {
          "output_type": "stream",
          "name": "stdout",
          "text": [
            "11\n",
            "a = 1;\n",
            "b = input();\n",
            "\n",
            "if a + b > 0 && a - b < 0:\n",
            "    start()\n",
            "elif a*b > 10 || a/b < 1:\n",
            "    stop()\n",
            "print set(list(a)) | set(list(b)) \n",
            "#Note do not change &&& or ||| or & or |\n",
            "#Only change those '&&' which have space on both sides.\n",
            "#Only change those '|| which have space on both sides.\n",
            "a = 1;\n",
            "b = input();\n",
            "\n",
            "if a + b > 0 and a - b < 0:\n",
            "    start()\n",
            "elif a*b > 10 or a/b < 1:\n",
            "    stop()\n",
            "print set(list(a)) | set(list(b)) \n",
            "#Note do not change &&& or ||| or & or |\n",
            "#Only change those '&&' which have space on both sides.\n",
            "#Only change those '|| which have space on both sides.\n",
            "\n"
          ]
        }
      ]
    },
    {
      "cell_type": "markdown",
      "source": [
        "## Validating Roman Numerals"
      ],
      "metadata": {
        "id": "oH7nxXjsEda7"
      }
    },
    {
      "cell_type": "code",
      "source": [
        "regex_pattern = r\"^M{0,3}(CM|CD|D?C{0,3})(XC|XL|L?X{0,3})(IX|IV|V?I{0,3})$\"\t# Do not delete 'r'.\n",
        "\n",
        "import re\n",
        "print(str(bool(re.match(regex_pattern, input()))))"
      ],
      "metadata": {
        "colab": {
          "base_uri": "https://localhost:8080/"
        },
        "id": "9mTn8qUvEdo-",
        "outputId": "b3af0a3c-dcb9-4974-945e-b45d19103bae"
      },
      "execution_count": 48,
      "outputs": [
        {
          "output_type": "stream",
          "name": "stdout",
          "text": [
            "CDXXI\n",
            "True\n"
          ]
        }
      ]
    },
    {
      "cell_type": "markdown",
      "source": [
        "## Validating phone numbers"
      ],
      "metadata": {
        "id": "jKMVxixGOQcw"
      }
    },
    {
      "cell_type": "code",
      "source": [
        "import re\n",
        "for _ in range(int(input())):\n",
        "    print(\"YES\") if re.match(r'^[789]\\d{9}$', input()) else print(\"NO\") "
      ],
      "metadata": {
        "colab": {
          "base_uri": "https://localhost:8080/"
        },
        "id": "jpW-0V7qOQxZ",
        "outputId": "b851da62-9a69-467d-ee29-c2a7bc6d8c3c"
      },
      "execution_count": 49,
      "outputs": [
        {
          "output_type": "stream",
          "name": "stdout",
          "text": [
            "2\n",
            "9587456281\n",
            "YES\n",
            "1252478965\n",
            "NO\n"
          ]
        }
      ]
    },
    {
      "cell_type": "markdown",
      "source": [
        "## Re.start() & Re.end()"
      ],
      "metadata": {
        "id": "3FoBBRLcYwpa"
      }
    },
    {
      "cell_type": "code",
      "source": [
        "s, p, f = input(), input(), 0\n",
        "for i in range(len(s)):\n",
        "    if s[i:i+len(p)] == p: \n",
        "        print((i,i+len(p)-1))\n",
        "        f = 1\n",
        "if f == 0: print((-1, -1))"
      ],
      "metadata": {
        "colab": {
          "base_uri": "https://localhost:8080/"
        },
        "id": "T2lp7tz0YxPe",
        "outputId": "72d76ea6-9de3-486f-b732-1a1afae8b8bb"
      },
      "execution_count": 50,
      "outputs": [
        {
          "output_type": "stream",
          "name": "stdout",
          "text": [
            "aaadaa\n",
            "aa\n",
            "(0, 1)\n",
            "(1, 2)\n",
            "(4, 5)\n"
          ]
        }
      ]
    },
    {
      "cell_type": "markdown",
      "source": [
        "# XML\n",
        "\n",
        "---\n",
        "\n"
      ],
      "metadata": {
        "id": "-g5kqYH6duhx"
      }
    },
    {
      "cell_type": "markdown",
      "source": [
        "## XML 1 - Find the Score"
      ],
      "metadata": {
        "id": "FSdsSol7hfu_"
      }
    },
    {
      "cell_type": "code",
      "source": [
        "import sys\n",
        "import xml.etree.ElementTree as etree\n",
        "\n",
        "def get_attr_number(node):\n",
        "    # your code goes here\n",
        "    return etree.tostring(node).count(b'=')\n",
        "\n",
        "if __name__ == '__main__':\n",
        "    sys.stdin.readline()\n",
        "    xml = sys.stdin.read()\n",
        "    tree = etree.ElementTree(etree.fromstring(xml))\n",
        "    root = tree.getroot()\n",
        "    print(get_attr_number(root))"
      ],
      "metadata": {
        "colab": {
          "base_uri": "https://localhost:8080/",
          "height": 98
        },
        "id": "JjC1utiShewS",
        "outputId": "2e34b32e-62c3-4d90-ab34-fe6d4a9d1e45"
      },
      "execution_count": 56,
      "outputs": [
        {
          "output_type": "error",
          "ename": "ParseError",
          "evalue": "ignored",
          "traceback": [
            "\u001b[0;36m  File \u001b[0;32m\"<string>\"\u001b[0;36m, line \u001b[0;32munknown\u001b[0m\n\u001b[0;31mParseError\u001b[0m\u001b[0;31m:\u001b[0m no element found: line 1, column 0\n"
          ]
        }
      ]
    },
    {
      "cell_type": "markdown",
      "source": [
        "## XML2 - Find the Maximum Depth"
      ],
      "metadata": {
        "id": "s_KhODJKhsJT"
      }
    },
    {
      "cell_type": "code",
      "source": [
        "import xml.etree.ElementTree as etree\n",
        "\n",
        "maxdepth = 0\n",
        "def depth(elem, level):\n",
        "    global maxdepth\n",
        "    # your code goes here\n",
        "    if (level == maxdepth):\n",
        "        maxdepth += 1\n",
        "        \n",
        "    for child in elem:\n",
        "        depth(child, level + 1)\n",
        "\n",
        "if __name__ == '__main__':\n",
        "    n = int(input())\n",
        "    xml = \"\"\n",
        "    for i in range(n):\n",
        "        xml =  xml + input() + \"\\n\"\n",
        "    tree = etree.ElementTree(etree.fromstring(xml))\n",
        "    depth(tree.getroot(), -1)\n",
        "    print(maxdepth)"
      ],
      "metadata": {
        "colab": {
          "base_uri": "https://localhost:8080/"
        },
        "id": "BMtkvy4ghseK",
        "outputId": "9911f2e0-93b5-4324-b249-84330d6e98f2"
      },
      "execution_count": 57,
      "outputs": [
        {
          "output_type": "stream",
          "name": "stdout",
          "text": [
            "6\n",
            "<feed xml:lang='en'>\n",
            "    <title>HackerRank</title>\n",
            "    <subtitle lang='en'>Programming challenges</subtitle>\n",
            "    <link rel='alternate' type='text/html' href='http://hackerrank.com/'/>\n",
            "    <updated>2013-12-25T12:00:00</updated>\n",
            "</feed>\n",
            "1\n"
          ]
        }
      ]
    },
    {
      "cell_type": "markdown",
      "source": [
        "# Closures and Decorators\n",
        "\n",
        "---\n",
        "\n"
      ],
      "metadata": {
        "id": "x1s15R7sdzH1"
      }
    },
    {
      "cell_type": "markdown",
      "source": [
        "## Standardize Mobile Number Using Decorators"
      ],
      "metadata": {
        "id": "jKigZa4ofEuS"
      }
    },
    {
      "cell_type": "code",
      "source": [
        "def wrapper(f):\n",
        "    def fun(l):\n",
        "        # complete the function\n",
        "        l =  [\"+91 \" + i[-10:-5] + \" \" + i[-5:] for i in l]\n",
        "        return f(sorted(l))\n",
        "    return fun\n",
        "\n",
        "@wrapper\n",
        "def sort_phone(l):\n",
        "    print(*sorted(l), sep='\\n')\n",
        "\n",
        "if __name__ == '__main__':\n",
        "    l = [input() for _ in range(int(input()))]\n",
        "    sort_phone(l) "
      ],
      "metadata": {
        "colab": {
          "base_uri": "https://localhost:8080/"
        },
        "id": "vqN_m5AUfFRs",
        "outputId": "08c05666-6270-4356-cbb9-da18f97efc5b"
      },
      "execution_count": 53,
      "outputs": [
        {
          "output_type": "stream",
          "name": "stdout",
          "text": [
            "3\n",
            "07895462130\n",
            "919875641230\n",
            "9195969878\n",
            "+91 78954 62130\n",
            "+91 91959 69878\n",
            "+91 98756 41230\n"
          ]
        }
      ]
    },
    {
      "cell_type": "markdown",
      "source": [
        "## Decorators 2 - Name Directory"
      ],
      "metadata": {
        "id": "sgt20iNSfFh_"
      }
    },
    {
      "cell_type": "code",
      "source": [
        "import operator\n",
        "\n",
        "def person_lister(f):\n",
        "    def inner(people):\n",
        "        # complete the function\n",
        "        return map(f, sorted([[e[0], e[1], int(e[2]), e[3]] for e in people], \n",
        "                             key=operator.itemgetter(2)))\n",
        "    return inner\n",
        "\n",
        "@person_lister\n",
        "def name_format(person):\n",
        "    return (\"Mr. \" if person[3] == \"M\" else \"Ms. \") + person[0] + \" \" \n",
        "    + person[1]\n",
        "\n",
        "if __name__ == '__main__':\n",
        "    people = [input().split() for i in range(int(input()))]\n",
        "    print(*name_format(people), sep='\\n')"
      ],
      "metadata": {
        "colab": {
          "base_uri": "https://localhost:8080/"
        },
        "id": "A10JonCWfFyR",
        "outputId": "682da1a6-6cf4-4cf0-ccbc-8eac1146fcc8"
      },
      "execution_count": 54,
      "outputs": [
        {
          "output_type": "stream",
          "name": "stdout",
          "text": [
            "3\n",
            "Mike Thomson 20 M\n",
            "Robert Bustle 32 M\n",
            "Andria Bustle 30 F\n",
            "Mr. Mike \n",
            "Ms. Andria \n",
            "Mr. Robert \n"
          ]
        }
      ]
    },
    {
      "cell_type": "markdown",
      "source": [
        "# Numpy\n",
        "---\n",
        "\n"
      ],
      "metadata": {
        "id": "jBdF56Xx9-P2"
      }
    },
    {
      "cell_type": "markdown",
      "source": [
        "## Arrays"
      ],
      "metadata": {
        "id": "JHOijsYA82Il"
      }
    },
    {
      "cell_type": "code",
      "source": [
        "import numpy\n",
        "\n",
        "def arrays(arr):\n",
        "    return numpy.array(arr, float)[::-1]\n",
        "\n",
        "arr = input().strip().split(' ')\n",
        "result = arrays(arr)\n",
        "print(result)"
      ],
      "metadata": {
        "colab": {
          "base_uri": "https://localhost:8080/"
        },
        "id": "JIY9xs0v-B3l",
        "outputId": "07ee521b-2b0f-4dfb-cdc7-55d9a855681f"
      },
      "execution_count": null,
      "outputs": [
        {
          "output_type": "stream",
          "name": "stdout",
          "text": [
            "1 2 3 4 -8 -10\n",
            "[-10.  -8.   4.   3.   2.   1.]\n"
          ]
        }
      ]
    },
    {
      "cell_type": "markdown",
      "source": [
        "## Shape and Reshape"
      ],
      "metadata": {
        "id": "ONK5RCcq82MG"
      }
    },
    {
      "cell_type": "code",
      "source": [
        "import numpy\n",
        "my_array = numpy.array(input().split(), int)\n",
        "print (numpy.reshape(my_array,(3,3)))"
      ],
      "metadata": {
        "colab": {
          "base_uri": "https://localhost:8080/"
        },
        "id": "qHMLyQ8G-KPH",
        "outputId": "a9b2c355-351b-4974-a0c7-d9ce9dec741a"
      },
      "execution_count": null,
      "outputs": [
        {
          "output_type": "stream",
          "name": "stdout",
          "text": [
            "1 2 3 4 5 6 7 8 9\n",
            "[[1 2 3]\n",
            " [4 5 6]\n",
            " [7 8 9]]\n"
          ]
        }
      ]
    },
    {
      "cell_type": "markdown",
      "source": [
        "## Transpose and Flatten"
      ],
      "metadata": {
        "id": "rkE8ch9Z82PV"
      }
    },
    {
      "cell_type": "code",
      "source": [
        "import numpy\n",
        "n, _ = map(int, input().split())\n",
        "arr = numpy.array([input().strip().split() for _ in range(n)], int)\n",
        "print(arr.transpose(), arr.flatten(), sep = \"\\n\" )"
      ],
      "metadata": {
        "colab": {
          "base_uri": "https://localhost:8080/"
        },
        "id": "4El4Lr9r9eLi",
        "outputId": "fd4bc532-bcef-4300-8886-577df535f82f"
      },
      "execution_count": null,
      "outputs": [
        {
          "output_type": "stream",
          "name": "stdout",
          "text": [
            "2 2\n",
            "1 2\n",
            "3 4\n",
            "[[1 3]\n",
            " [2 4]]\n",
            "[1 2 3 4]\n"
          ]
        }
      ]
    },
    {
      "cell_type": "markdown",
      "source": [
        "## Concatenate"
      ],
      "metadata": {
        "id": "Gmb4WIjH82Sn"
      }
    },
    {
      "cell_type": "code",
      "source": [
        "import numpy\n",
        "n, m, _= map(int, input().strip().split())\n",
        "arr1 = numpy.array([input().strip().split() for _ in range(n)], int)\n",
        "arr2 = numpy.array([input().strip().split() for _ in range(m)], int)\n",
        "print(numpy.concatenate((arr1, arr2), axis= 0))"
      ],
      "metadata": {
        "colab": {
          "base_uri": "https://localhost:8080/"
        },
        "id": "Qb68Av8Z8ycA",
        "outputId": "86b25cdf-e6e1-46f9-b2a3-75bfb4ad6cf9"
      },
      "execution_count": null,
      "outputs": [
        {
          "output_type": "stream",
          "name": "stdout",
          "text": [
            "4 3 2\n",
            "1 2\n",
            "1 2\n",
            "1 2\n",
            "1 2\n",
            "3 4\n",
            "3 4\n",
            "3 4\n",
            "[[1 2]\n",
            " [1 2]\n",
            " [1 2]\n",
            " [1 2]\n",
            " [3 4]\n",
            " [3 4]\n",
            " [3 4]]\n"
          ]
        }
      ]
    },
    {
      "cell_type": "markdown",
      "source": [
        "## Zeros and Ones"
      ],
      "metadata": {
        "id": "HWirBNa-8hYe"
      }
    },
    {
      "cell_type": "code",
      "execution_count": null,
      "metadata": {
        "colab": {
          "base_uri": "https://localhost:8080/"
        },
        "id": "-c4jpqr2jDPl",
        "outputId": "1a893650-aa6f-435f-d025-0e5306ff45c7"
      },
      "outputs": [
        {
          "output_type": "stream",
          "name": "stdout",
          "text": [
            "3 3 3\n",
            "[[[0. 0. 0.]\n",
            "  [0. 0. 0.]\n",
            "  [0. 0. 0.]]\n",
            "\n",
            " [[0. 0. 0.]\n",
            "  [0. 0. 0.]\n",
            "  [0. 0. 0.]]\n",
            "\n",
            " [[0. 0. 0.]\n",
            "  [0. 0. 0.]\n",
            "  [0. 0. 0.]]]\n",
            "[[[1. 1. 1.]\n",
            "  [1. 1. 1.]\n",
            "  [1. 1. 1.]]\n",
            "\n",
            " [[1. 1. 1.]\n",
            "  [1. 1. 1.]\n",
            "  [1. 1. 1.]]\n",
            "\n",
            " [[1. 1. 1.]\n",
            "  [1. 1. 1.]\n",
            "  [1. 1. 1.]]]\n"
          ]
        }
      ],
      "source": [
        "import numpy\n",
        "n = list(map(int, input().split()))\n",
        "print(numpy.zeros(n, dtype=numpy.int), numpy.ones(n, dtype=numpy.int), sep=\"\\n\")"
      ]
    },
    {
      "cell_type": "markdown",
      "source": [
        "## Eye and Identity"
      ],
      "metadata": {
        "id": "V5gLEDme8c6R"
      }
    },
    {
      "cell_type": "code",
      "source": [
        "import numpy\n",
        "numpy.set_printoptions(legacy='1.13')\n",
        "n = list(map(int, input().split()))\n",
        "print(numpy.eye(n[0], n[1]))"
      ],
      "metadata": {
        "colab": {
          "base_uri": "https://localhost:8080/"
        },
        "id": "SFaHe6cA3iv6",
        "outputId": "98770914-ca86-4d7d-c803-bc7c9a386325"
      },
      "execution_count": null,
      "outputs": [
        {
          "output_type": "stream",
          "name": "stdout",
          "text": [
            "3 3\n",
            "[[ 1.  0.  0.]\n",
            " [ 0.  1.  0.]\n",
            " [ 0.  0.  1.]]\n"
          ]
        }
      ]
    },
    {
      "cell_type": "markdown",
      "source": [
        "## Array Mathematics\n"
      ],
      "metadata": {
        "id": "o1wcX76b7_1T"
      }
    },
    {
      "cell_type": "code",
      "source": [
        "import numpy\n",
        "n, m = map(int, input().split())\n",
        "a = numpy.array([input().strip().split() for _ in range(n)], int)\n",
        "b = numpy.array([input().strip().split() for _ in range(n)], int)\n",
        "print(a+b, a-b, a*b, a//b, a%b, a**b, sep=\"\\n\")"
      ],
      "metadata": {
        "colab": {
          "base_uri": "https://localhost:8080/"
        },
        "id": "VJtn9StK77gM",
        "outputId": "7d40eed3-5ca7-49e6-9a3c-7c28268697cc"
      },
      "execution_count": null,
      "outputs": [
        {
          "output_type": "stream",
          "name": "stdout",
          "text": [
            "1 4\n",
            "1 2 3 4\n",
            "5 6 7 8\n",
            "[[ 6  8 10 12]]\n",
            "[[-4 -4 -4 -4]]\n",
            "[[ 5 12 21 32]]\n",
            "[[0 0 0 0]]\n",
            "[[1 2 3 4]]\n",
            "[[    1    64  2187 65536]]\n"
          ]
        }
      ]
    },
    {
      "cell_type": "markdown",
      "source": [
        "## Floor, Ceil and Rint"
      ],
      "metadata": {
        "id": "g_KhP5uBCtwo"
      }
    },
    {
      "cell_type": "code",
      "source": [
        "import numpy as np\n",
        "np.set_printoptions(legacy='1.13')\n",
        "a = np.array([input().split()], float)\n",
        "print(*np.floor(a), *np.ceil(a), *np.rint(a), sep=\"\\n\")"
      ],
      "metadata": {
        "colab": {
          "base_uri": "https://localhost:8080/"
        },
        "id": "h8lvMKdNjYVe",
        "outputId": "763d48ae-54e6-4774-9e8b-63c06f96a9f3"
      },
      "execution_count": null,
      "outputs": [
        {
          "output_type": "stream",
          "name": "stdout",
          "text": [
            "1.1 2.2 3.3 4.4 5.5 6.6 7.7 8.8 9.9\n",
            "[ 1.  2.  3.  4.  5.  6.  7.  8.  9.]\n",
            "[  2.   3.   4.   5.   6.   7.   8.   9.  10.]\n",
            "[  1.   2.   3.   4.   6.   7.   8.   9.  10.]\n"
          ]
        }
      ]
    },
    {
      "cell_type": "markdown",
      "source": [
        "## Sum and Prod"
      ],
      "metadata": {
        "id": "kbOV-JidHbO1"
      }
    },
    {
      "cell_type": "code",
      "source": [
        "import numpy\n",
        "n, _ = map(int, input().split())\n",
        "arr = numpy.array([input().split() for _ in range(n)], int)\n",
        "print(numpy.prod(arr.sum(axis = 0)))"
      ],
      "metadata": {
        "colab": {
          "base_uri": "https://localhost:8080/"
        },
        "id": "dshgg8q_HdMW",
        "outputId": "eb13257c-1599-495a-f6e4-9c4f058ad098"
      },
      "execution_count": null,
      "outputs": [
        {
          "output_type": "stream",
          "name": "stdout",
          "text": [
            "2 2\n",
            "1 2\n",
            "3 4\n",
            "24\n"
          ]
        }
      ]
    },
    {
      "cell_type": "markdown",
      "source": [
        "## Min and Max"
      ],
      "metadata": {
        "id": "PxIiQhn5JPqk"
      }
    },
    {
      "cell_type": "code",
      "source": [
        "import numpy\n",
        "n, _ = map(int, input().split())\n",
        "arr = numpy.array([input().split() for _ in range(n)], int)\n",
        "print(numpy.max(arr.min(axis=1)))"
      ],
      "metadata": {
        "colab": {
          "base_uri": "https://localhost:8080/"
        },
        "id": "K18aYKKyJj60",
        "outputId": "0f95242e-f274-40de-a4af-b575af82a750"
      },
      "execution_count": null,
      "outputs": [
        {
          "output_type": "stream",
          "name": "stdout",
          "text": [
            "4 2\n",
            "2 5\n",
            "3 7\n",
            "1 3\n",
            "4 0\n",
            "3\n"
          ]
        }
      ]
    },
    {
      "cell_type": "markdown",
      "source": [
        "## Mean, Var, and Std"
      ],
      "metadata": {
        "id": "5jm8Qoz5KlY9"
      }
    },
    {
      "cell_type": "code",
      "source": [
        "import numpy\n",
        "n, _ = map(int, input().split())\n",
        "arr = numpy.array([input().split() for _ in range(n)], int)\n",
        "print(arr.mean(axis=1), arr.var(axis=0), round(arr.std(), 11), sep=\"\\n\")"
      ],
      "metadata": {
        "colab": {
          "base_uri": "https://localhost:8080/"
        },
        "id": "NoaTWyizKpww",
        "outputId": "c1814f85-a0ff-4655-9369-5c1326659728"
      },
      "execution_count": null,
      "outputs": [
        {
          "output_type": "stream",
          "name": "stdout",
          "text": [
            "2 2\n",
            "1 2\n",
            "3 4\n",
            "[ 1.5  3.5]\n",
            "[ 1.  1.]\n",
            "1.11803398875\n"
          ]
        }
      ]
    },
    {
      "cell_type": "markdown",
      "source": [
        "## Dot and Cross"
      ],
      "metadata": {
        "id": "jHpd3n38h76c"
      }
    },
    {
      "cell_type": "code",
      "source": [
        "import numpy\n",
        "n = int(input())\n",
        "arr1 = numpy.array([input().split() for _ in range(n)], int)\n",
        "arr2 = numpy.array([input().split() for _ in range(n)], int)\n",
        "print(numpy.dot(arr1, arr2))"
      ],
      "metadata": {
        "colab": {
          "base_uri": "https://localhost:8080/"
        },
        "id": "3JUrUwf3h_k2",
        "outputId": "b7d0b21e-3916-4980-be2e-f6cdb2893050"
      },
      "execution_count": null,
      "outputs": [
        {
          "output_type": "stream",
          "name": "stdout",
          "text": [
            "2\n",
            "1 2\n",
            "3 4\n",
            "1 2\n",
            "3 4\n",
            "[[ 7 10]\n",
            " [15 22]]\n"
          ]
        }
      ]
    },
    {
      "cell_type": "markdown",
      "source": [
        "## Inner and Outer"
      ],
      "metadata": {
        "id": "N4TyDwHej631"
      }
    },
    {
      "cell_type": "code",
      "source": [
        "import numpy\n",
        "arr1 = numpy.array(input().split(), int)\n",
        "arr2 = numpy.array(input().split(), int)\n",
        "print(numpy.inner(arr1, arr2), numpy.outer(arr1, arr2), sep=\"\\n\")"
      ],
      "metadata": {
        "colab": {
          "base_uri": "https://localhost:8080/"
        },
        "id": "qaH7CNr7j7Oz",
        "outputId": "bd644339-a6aa-49ab-f8c8-84ef3baa2ad4"
      },
      "execution_count": null,
      "outputs": [
        {
          "output_type": "stream",
          "name": "stdout",
          "text": [
            "0 1\n",
            "2 3\n",
            "3\n",
            "[[0 0]\n",
            " [2 3]]\n"
          ]
        }
      ]
    },
    {
      "cell_type": "markdown",
      "source": [
        "## Polynomials"
      ],
      "metadata": {
        "id": "lQuUG6kImYog"
      }
    },
    {
      "cell_type": "code",
      "source": [
        "import numpy\n",
        "n = numpy.array(input().split(), float)\n",
        "print(numpy.polyval(n,int(input())))"
      ],
      "metadata": {
        "colab": {
          "base_uri": "https://localhost:8080/"
        },
        "id": "5l-mImLdmeAc",
        "outputId": "155ad10a-381c-4813-9a47-c60181b4e52c"
      },
      "execution_count": null,
      "outputs": [
        {
          "output_type": "stream",
          "name": "stdout",
          "text": [
            "1.1 2 3\n",
            "0\n",
            "3.0\n"
          ]
        }
      ]
    },
    {
      "cell_type": "markdown",
      "source": [
        "## Linear Algebra"
      ],
      "metadata": {
        "id": "Dsd-aip2meYx"
      }
    },
    {
      "cell_type": "code",
      "source": [
        "import numpy as np\n",
        "arr = np.array([input().split() for _ in range(int(input()))], float)\n",
        "print (round(np.linalg.det(arr), 2))"
      ],
      "metadata": {
        "colab": {
          "base_uri": "https://localhost:8080/"
        },
        "id": "TdPQNC7Amhga",
        "outputId": "0d4e2c16-7284-44df-a404-ebe58307d49c"
      },
      "execution_count": null,
      "outputs": [
        {
          "output_type": "stream",
          "name": "stdout",
          "text": [
            "2\n",
            "1.1 1.1\n",
            "1.1 1.1\n",
            "0.0\n"
          ]
        }
      ]
    },
    {
      "cell_type": "markdown",
      "source": [
        "# Debugging\n",
        "\n",
        "---\n",
        "\n"
      ],
      "metadata": {
        "id": "uQCFX3Ghd7v-"
      }
    },
    {
      "cell_type": "markdown",
      "source": [
        "## Words Score"
      ],
      "metadata": {
        "id": "IZnNM8SAd_UY"
      }
    },
    {
      "cell_type": "code",
      "source": [
        "def is_vowel(letter):\n",
        "    return letter in ['a', 'e', 'i', 'o', 'u', 'y']\n",
        "\n",
        "def score_words(words):\n",
        "    score = 0\n",
        "    for word in words:\n",
        "        num_vowels = 0\n",
        "        for letter in word:\n",
        "            if is_vowel(letter):\n",
        "                num_vowels += 1\n",
        "        if num_vowels % 2 == 0:\n",
        "            score += 2\n",
        "        else:\n",
        "            score += 1\n",
        "    return score\n",
        "\n",
        "\n",
        "n = int(input())\n",
        "words = input().split()\n",
        "print(score_words(words))"
      ],
      "metadata": {
        "colab": {
          "base_uri": "https://localhost:8080/"
        },
        "id": "0-MYsBAWeHne",
        "outputId": "86ae642b-255f-407f-a939-d6d34fe6a4ac"
      },
      "execution_count": 51,
      "outputs": [
        {
          "output_type": "stream",
          "name": "stdout",
          "text": [
            "2\n",
            "hacker book\n",
            "4\n"
          ]
        }
      ]
    },
    {
      "cell_type": "markdown",
      "source": [
        ""
      ],
      "metadata": {
        "id": "KVFwGBX6eP59"
      }
    },
    {
      "cell_type": "code",
      "source": [
        "class EvenStream(object):\n",
        "    def __init__(self):\n",
        "        self.current = 0\n",
        "\n",
        "    def get_next(self):\n",
        "        to_return = self.current\n",
        "        self.current += 2\n",
        "        return to_return\n",
        "\n",
        "class OddStream(object):\n",
        "    def __init__(self):\n",
        "        self.current = 1\n",
        "\n",
        "    def get_next(self):\n",
        "        to_return = self.current\n",
        "        self.current += 2\n",
        "        return to_return\n",
        "\n",
        "def print_from_stream(n, stream=EvenStream()):\n",
        "    stream.__init__()\n",
        "    for _ in range(n):\n",
        "        print(stream.get_next())\n",
        "\n",
        "\n",
        "queries = int(input())\n",
        "for _ in range(queries):\n",
        "    stream_name, n = input().split()\n",
        "    n = int(n)\n",
        "    if stream_name == \"even\":\n",
        "        print_from_stream(n)\n",
        "    else:\n",
        "        print_from_stream(n, OddStream())"
      ],
      "metadata": {
        "colab": {
          "base_uri": "https://localhost:8080/"
        },
        "id": "IN9tpupceXNm",
        "outputId": "5107f389-8d1f-4862-fead-5fe4b39fb8e2"
      },
      "execution_count": 52,
      "outputs": [
        {
          "output_type": "stream",
          "name": "stdout",
          "text": [
            "3\n",
            "odd 2\n",
            "1\n",
            "3\n",
            "even 3\n",
            "0\n",
            "2\n",
            "4\n",
            "odd 5\n",
            "1\n",
            "3\n",
            "5\n",
            "7\n",
            "9\n"
          ]
        }
      ]
    }
  ]
}