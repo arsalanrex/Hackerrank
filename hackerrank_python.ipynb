{
  "nbformat": 4,
  "nbformat_minor": 0,
  "metadata": {
    "colab": {
      "name": "hackerrank_python.ipynb",
      "provenance": [],
      "authorship_tag": "ABX9TyOXKZ4KMy+d3rclqeGdx3Z4",
      "include_colab_link": true
    },
    "kernelspec": {
      "name": "python3",
      "display_name": "Python 3"
    },
    "language_info": {
      "name": "python"
    }
  },
  "cells": [
    {
      "cell_type": "markdown",
      "metadata": {
        "id": "view-in-github",
        "colab_type": "text"
      },
      "source": [
        "<a href=\"https://colab.research.google.com/github/arsalanrex/Hackerrank/blob/Python/hackerrank_python.ipynb\" target=\"_parent\"><img src=\"https://colab.research.google.com/assets/colab-badge.svg\" alt=\"Open In Colab\"/></a>"
      ]
    },
    {
      "cell_type": "markdown",
      "source": [
        ""
      ],
      "metadata": {
        "id": "0cfYFwEF8zrW"
      }
    },
    {
      "cell_type": "markdown",
      "source": [
        ""
      ],
      "metadata": {
        "id": "adeJ4RiT800J"
      }
    },
    {
      "cell_type": "markdown",
      "source": [
        ""
      ],
      "metadata": {
        "id": "KzTheRLr804g"
      }
    },
    {
      "cell_type": "markdown",
      "source": [
        ""
      ],
      "metadata": {
        "id": "gNCaRckA808E"
      }
    },
    {
      "cell_type": "markdown",
      "source": [
        ""
      ],
      "metadata": {
        "id": "cHHkkgcW80_q"
      }
    },
    {
      "cell_type": "markdown",
      "source": [
        ""
      ],
      "metadata": {
        "id": "ezfcPcTb81kr"
      }
    },
    {
      "cell_type": "markdown",
      "source": [
        ""
      ],
      "metadata": {
        "id": "adapEPeI81oy"
      }
    },
    {
      "cell_type": "markdown",
      "source": [
        ""
      ],
      "metadata": {
        "id": "t41NWG5s81sD"
      }
    },
    {
      "cell_type": "markdown",
      "source": [
        ""
      ],
      "metadata": {
        "id": "3QxvaY6u81vK"
      }
    },
    {
      "cell_type": "markdown",
      "source": [
        ""
      ],
      "metadata": {
        "id": "TmlaTQQK81ym"
      }
    },
    {
      "cell_type": "markdown",
      "source": [
        ""
      ],
      "metadata": {
        "id": "fSC3CSCf82B6"
      }
    },
    {
      "cell_type": "markdown",
      "source": [
        ""
      ],
      "metadata": {
        "id": "05BmzwUD82FH"
      }
    },
    {
      "cell_type": "markdown",
      "source": [
        "# Numpy\n",
        "---\n",
        "\n"
      ],
      "metadata": {
        "id": "jBdF56Xx9-P2"
      }
    },
    {
      "cell_type": "markdown",
      "source": [
        "## Arrays"
      ],
      "metadata": {
        "id": "JHOijsYA82Il"
      }
    },
    {
      "cell_type": "code",
      "source": [
        "import numpy\n",
        "\n",
        "def arrays(arr):\n",
        "    return numpy.array(arr, float)[::-1]\n",
        "\n",
        "arr = input().strip().split(' ')\n",
        "result = arrays(arr)\n",
        "print(result)"
      ],
      "metadata": {
        "colab": {
          "base_uri": "https://localhost:8080/",
          "height": 0
        },
        "id": "JIY9xs0v-B3l",
        "outputId": "07ee521b-2b0f-4dfb-cdc7-55d9a855681f"
      },
      "execution_count": 17,
      "outputs": [
        {
          "output_type": "stream",
          "name": "stdout",
          "text": [
            "1 2 3 4 -8 -10\n",
            "[-10.  -8.   4.   3.   2.   1.]\n"
          ]
        }
      ]
    },
    {
      "cell_type": "markdown",
      "source": [
        "## Shape and Reshape"
      ],
      "metadata": {
        "id": "ONK5RCcq82MG"
      }
    },
    {
      "cell_type": "code",
      "source": [
        "import numpy\n",
        "my_array = numpy.array(input().split(), int)\n",
        "print (numpy.reshape(my_array,(3,3)))"
      ],
      "metadata": {
        "colab": {
          "base_uri": "https://localhost:8080/",
          "height": 0
        },
        "id": "qHMLyQ8G-KPH",
        "outputId": "a9b2c355-351b-4974-a0c7-d9ce9dec741a"
      },
      "execution_count": 18,
      "outputs": [
        {
          "output_type": "stream",
          "name": "stdout",
          "text": [
            "1 2 3 4 5 6 7 8 9\n",
            "[[1 2 3]\n",
            " [4 5 6]\n",
            " [7 8 9]]\n"
          ]
        }
      ]
    },
    {
      "cell_type": "markdown",
      "source": [
        "## Transpose and Flatten"
      ],
      "metadata": {
        "id": "rkE8ch9Z82PV"
      }
    },
    {
      "cell_type": "code",
      "source": [
        "import numpy\n",
        "n, _ = map(int, input().split())\n",
        "arr = numpy.array([input().strip().split() for _ in range(n)], int)\n",
        "print(arr.transpose(), arr.flatten(), sep = \"\\n\" )"
      ],
      "metadata": {
        "colab": {
          "base_uri": "https://localhost:8080/",
          "height": 0
        },
        "id": "4El4Lr9r9eLi",
        "outputId": "fd4bc532-bcef-4300-8886-577df535f82f"
      },
      "execution_count": 16,
      "outputs": [
        {
          "output_type": "stream",
          "name": "stdout",
          "text": [
            "2 2\n",
            "1 2\n",
            "3 4\n",
            "[[1 3]\n",
            " [2 4]]\n",
            "[1 2 3 4]\n"
          ]
        }
      ]
    },
    {
      "cell_type": "markdown",
      "source": [
        "## Concatenate"
      ],
      "metadata": {
        "id": "Gmb4WIjH82Sn"
      }
    },
    {
      "cell_type": "code",
      "source": [
        "import numpy\n",
        "n, m, _= map(int, input().strip().split())\n",
        "arr1 = numpy.array([input().strip().split() for _ in range(n)], int)\n",
        "arr2 = numpy.array([input().strip().split() for _ in range(m)], int)\n",
        "print(numpy.concatenate((arr1, arr2), axis= 0))"
      ],
      "metadata": {
        "colab": {
          "base_uri": "https://localhost:8080/",
          "height": 0
        },
        "id": "Qb68Av8Z8ycA",
        "outputId": "86b25cdf-e6e1-46f9-b2a3-75bfb4ad6cf9"
      },
      "execution_count": 15,
      "outputs": [
        {
          "output_type": "stream",
          "name": "stdout",
          "text": [
            "4 3 2\n",
            "1 2\n",
            "1 2\n",
            "1 2\n",
            "1 2\n",
            "3 4\n",
            "3 4\n",
            "3 4\n",
            "[[1 2]\n",
            " [1 2]\n",
            " [1 2]\n",
            " [1 2]\n",
            " [3 4]\n",
            " [3 4]\n",
            " [3 4]]\n"
          ]
        }
      ]
    },
    {
      "cell_type": "markdown",
      "source": [
        "## Zeros and Ones"
      ],
      "metadata": {
        "id": "HWirBNa-8hYe"
      }
    },
    {
      "cell_type": "code",
      "execution_count": 16,
      "metadata": {
        "colab": {
          "base_uri": "https://localhost:8080/",
          "height": 0
        },
        "id": "-c4jpqr2jDPl",
        "outputId": "1a893650-aa6f-435f-d025-0e5306ff45c7"
      },
      "outputs": [
        {
          "output_type": "stream",
          "name": "stdout",
          "text": [
            "3 3 3\n",
            "[[[0. 0. 0.]\n",
            "  [0. 0. 0.]\n",
            "  [0. 0. 0.]]\n",
            "\n",
            " [[0. 0. 0.]\n",
            "  [0. 0. 0.]\n",
            "  [0. 0. 0.]]\n",
            "\n",
            " [[0. 0. 0.]\n",
            "  [0. 0. 0.]\n",
            "  [0. 0. 0.]]]\n",
            "[[[1. 1. 1.]\n",
            "  [1. 1. 1.]\n",
            "  [1. 1. 1.]]\n",
            "\n",
            " [[1. 1. 1.]\n",
            "  [1. 1. 1.]\n",
            "  [1. 1. 1.]]\n",
            "\n",
            " [[1. 1. 1.]\n",
            "  [1. 1. 1.]\n",
            "  [1. 1. 1.]]]\n"
          ]
        }
      ],
      "source": [
        "import numpy\n",
        "n = list(map(int, input().split()))\n",
        "print(numpy.zeros(n, dtype=numpy.int), numpy.ones(n, dtype=numpy.int), sep=\"\\n\")"
      ]
    },
    {
      "cell_type": "markdown",
      "source": [
        "## Eye and Identity"
      ],
      "metadata": {
        "id": "V5gLEDme8c6R"
      }
    },
    {
      "cell_type": "code",
      "source": [
        "import numpy\n",
        "numpy.set_printoptions(legacy='1.13')\n",
        "n = list(map(int, input().split()))\n",
        "print(numpy.eye(n[0], n[1]))"
      ],
      "metadata": {
        "colab": {
          "base_uri": "https://localhost:8080/",
          "height": 0
        },
        "id": "SFaHe6cA3iv6",
        "outputId": "98770914-ca86-4d7d-c803-bc7c9a386325"
      },
      "execution_count": 13,
      "outputs": [
        {
          "output_type": "stream",
          "name": "stdout",
          "text": [
            "3 3\n",
            "[[ 1.  0.  0.]\n",
            " [ 0.  1.  0.]\n",
            " [ 0.  0.  1.]]\n"
          ]
        }
      ]
    },
    {
      "cell_type": "markdown",
      "source": [
        "## Array Mathematics\n"
      ],
      "metadata": {
        "id": "o1wcX76b7_1T"
      }
    },
    {
      "cell_type": "code",
      "source": [
        "import numpy\n",
        "n, m = map(int, input().split())\n",
        "a = numpy.array([input().strip().split() for _ in range(n)], int)\n",
        "b = numpy.array([input().strip().split() for _ in range(n)], int)\n",
        "print(a+b, a-b, a*b, a//b, a%b, a**b, sep=\"\\n\")"
      ],
      "metadata": {
        "colab": {
          "base_uri": "https://localhost:8080/"
        },
        "id": "VJtn9StK77gM",
        "outputId": "7d40eed3-5ca7-49e6-9a3c-7c28268697cc"
      },
      "execution_count": 25,
      "outputs": [
        {
          "output_type": "stream",
          "name": "stdout",
          "text": [
            "1 4\n",
            "1 2 3 4\n",
            "5 6 7 8\n",
            "[[ 6  8 10 12]]\n",
            "[[-4 -4 -4 -4]]\n",
            "[[ 5 12 21 32]]\n",
            "[[0 0 0 0]]\n",
            "[[1 2 3 4]]\n",
            "[[    1    64  2187 65536]]\n"
          ]
        }
      ]
    },
    {
      "cell_type": "markdown",
      "source": [
        "## Floor, Ceil and Rint"
      ],
      "metadata": {
        "id": "g_KhP5uBCtwo"
      }
    },
    {
      "cell_type": "code",
      "source": [
        ""
      ],
      "metadata": {
        "id": "h8lvMKdNjYVe"
      },
      "execution_count": null,
      "outputs": []
    }
  ]
}